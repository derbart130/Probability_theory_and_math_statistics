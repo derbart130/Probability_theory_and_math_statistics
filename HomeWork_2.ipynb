{
 "cells": [
  {
   "cell_type": "markdown",
   "metadata": {},
   "source": [
    "# Home Work 2"
   ]
  },
  {
   "cell_type": "markdown",
   "metadata": {},
   "source": [
    "## Задача 1\n",
    "\n",
    "Контрольная работа состоит из пяти вопросов. На каждый вопрос приведено четыре варианта ответа, один из которых правильный. Составьте закон распределения числа правильных ответов при простом угадывании. Найдите $M(X)$, $D(X)$."
   ]
  },
  {
   "cell_type": "markdown",
   "metadata": {},
   "source": [
    "#### Решение:\n",
    "\n",
    "Здесь имеем биномиальный закон распределения:\n",
    "\n",
    "$$P(X = k) = C_n^k p^k (1 - p)^{n - k}$$\n",
    "\n",
    "Здесь событие $A$ - на вопрос был дан правильный ответ; $n = 5$ - общее число опытов (пять вопросов); $X$ - число наступления события $A$ в $n$ опытах (число правильных ответов на пять вопросов); $p = \\frac{1}{4}$ - вероятность наступления события $A$ в каждом опыте.\n",
    "\n",
    "Посчитаем вероятность каждого исхода:\n",
    "\n",
    "$$P(X = 0) = C_5^0 \\cdot {1\\over4}^0 \\cdot {3\\over4}^5 = 1 \\cdot {1\\over4}^0 \\cdot {3\\over4}^5 = {243\\over1024}$$\n",
    "\n",
    "$$P(X = 1) = C_5^1 \\cdot {1\\over4}^1 \\cdot {3\\over4}^4 = 5 \\cdot {1\\over4}^1 \\cdot {3\\over4}^4 = {405\\over1024}$$\n",
    "\n",
    "$$P(X = 2) = C_5^2 \\cdot {1\\over4}^2 \\cdot {3\\over4}^3 = 10 \\cdot {1\\over4}^2 \\cdot {3\\over4}^3 = {270\\over1024}$$\n",
    "\n",
    "$$P(X = 3) = C_5^3 \\cdot {1\\over4}^3 \\cdot {3\\over4}^2 = 10 \\cdot {1\\over4}^3 \\cdot {3\\over4}^2 = {90\\over1024}$$\n",
    "\n",
    "$$P(X = 4) = C_5^4 \\cdot {1\\over4}^4 \\cdot {3\\over4}^1 = 5 \\cdot {1\\over4}^4 \\cdot {3\\over4}^1 = {15\\over1024}$$\n",
    "\n",
    "$$P(X = 5) = C_5^5 \\cdot {1\\over4}^5 \\cdot {3\\over4}^0 = 1 \\cdot {1\\over4}^5 \\cdot {3\\over4}^0 = {1\\over1024}$$"
   ]
  },
  {
   "cell_type": "markdown",
   "metadata": {},
   "source": [
    "#### Ответ:"
   ]
  },
  {
   "cell_type": "markdown",
   "metadata": {},
   "source": [
    "- Закон распределения случайной величины:\n",
    "\n",
    "|$x$||$$0$$||$$1$$||$$2$$||$$3$$||$$4$$||$$5$$|\n",
    "|---||---||---||---||---||---||---|\n",
    "|$P(X = x)$||$\\frac{32}{1024}$||$\\frac{405}{1024}$||$\\frac{270}{1024}$||$\\frac{90}{1024}$||$\\frac{15}{1024}$||$\\frac{1}{1024}$|"
   ]
  },
  {
   "cell_type": "markdown",
   "metadata": {},
   "source": [
    "- Математическое ожидание:\n",
    "\n",
    "$$M(X) = np = 5\\cdot{1\\over4} = 1.25$$"
   ]
  },
  {
   "cell_type": "markdown",
   "metadata": {},
   "source": [
    "- Дисперсия:\n",
    "\n",
    "$$D(X) = np(1 - p) = 5\\cdot{1\\over4}\\cdot{3\\over4} = 0.9375$$"
   ]
  },
  {
   "cell_type": "markdown",
   "metadata": {},
   "source": [
    "## Задача 2\n",
    "\n",
    "Вероятность поймать рыбу при одном забрасывании удочки равна 0.01. Какова вероятность того, что число пойманных рыб при 200 забросах удочки будет не менее 5 и не более 10?"
   ]
  },
  {
   "cell_type": "markdown",
   "metadata": {},
   "source": [
    "#### Решение:\n",
    "\n",
    "\n",
    "Поскольку мы имеем дело со счётчиком (число забросов удочки), мы можем допустить, что рассматриваемая случайная величина имеет распределение Пуассона. Чтобы найти её параметр $a$, вспомним, что чем выше число экспериментов, тем больше биномиальное распределение \"похоже\" на распределение Пуассона с параметром $a = np$. В нашем случае $a = 200 \\cdot 0.01 = 2$."
   ]
  },
  {
   "cell_type": "markdown",
   "metadata": {},
   "source": [
    "Для решения первого пункта нужно сложить несколько вероятностей. Вероятность поймать не менее 5 рыб предполагает получение от 5 до бесконечности рыб. Мы знаем, что сумма вероятностей случайной величины всегда равна  1 . Значит, вероятность поймать более 5 рыб равна:\n",
    "\n",
    "$$P(X > 5) = 1 - P(X \\leq 5)$$\n",
    "\n",
    "Формула для расчёта:\n",
    "\n",
    "$$P(X > 5) = 1 - \\displaystyle\\sum_{i = 0}^{5} \\dfrac{2^{i} e^{-2}}{i!}$$"
   ]
  },
  {
   "cell_type": "markdown",
   "metadata": {},
   "source": [
    "Напишем функцию для расчёта вероятности по формуле Пуассона:"
   ]
  },
  {
   "cell_type": "code",
   "execution_count": 1,
   "metadata": {},
   "outputs": [],
   "source": [
    "import numpy as np"
   ]
  },
  {
   "cell_type": "code",
   "execution_count": 2,
   "metadata": {},
   "outputs": [],
   "source": [
    "def poisson_proba(k, lambda_):\n",
    "    \n",
    "    return (lambda_ ** k) * (np.exp(-lambda_)) / np.math.factorial(k)"
   ]
  },
  {
   "cell_type": "code",
   "execution_count": 3,
   "metadata": {},
   "outputs": [],
   "source": [
    "p_1 = 1 - sum(poisson_proba(k=i, lambda_=2) for i in range(6))"
   ]
  },
  {
   "cell_type": "markdown",
   "metadata": {},
   "source": [
    "Для решения второго пункта тоже нужно сложить несколько вероятностей. Вероятность поймать не более 10 рыб предполагает получение от 0 до 10 рыб:\n",
    "$$P(X \\leq 10) = \\displaystyle\\sum_{i = 0}^{10} \\dfrac{2^{i} e^{-2}}{i!}$$"
   ]
  },
  {
   "cell_type": "code",
   "execution_count": 4,
   "metadata": {},
   "outputs": [],
   "source": [
    "p_2 = sum(poisson_proba(k=i, lambda_=2) for i in range(11))"
   ]
  },
  {
   "cell_type": "code",
   "execution_count": 5,
   "metadata": {},
   "outputs": [
    {
     "data": {
      "text/plain": [
       "0.9999916917756316"
      ]
     },
     "execution_count": 5,
     "metadata": {},
     "output_type": "execute_result"
    }
   ],
   "source": [
    "p_2"
   ]
  },
  {
   "cell_type": "markdown",
   "metadata": {},
   "source": [
    "#### Ответ:"
   ]
  },
  {
   "cell_type": "code",
   "execution_count": 6,
   "metadata": {},
   "outputs": [
    {
     "name": "stdout",
     "output_type": "stream",
     "text": [
      "\n",
      "Вероятность того, что число пойманных рыб при 200 забросах удочки будет:\n",
      "\n",
      "- не менее 5: 0.016564\n",
      "- не более 10: 0.999992\n"
     ]
    }
   ],
   "source": [
    "print(f'\\nВероятность того, что число пойманных рыб при 200 забросах удочки будет:\\n')\n",
    "print(f'- не менее 5: {round(p_1, 6)}\\n- не более 10: {round(p_2, 6)}')"
   ]
  },
  {
   "cell_type": "markdown",
   "metadata": {},
   "source": [
    "## Задача 3\n",
    "\n",
    "В условиях предыдущей задачи сколько забросов удочки нужно сделать чтобы быть уверенным с вероятностью 0.9, что хотя бы 10 раз будет поймана рыба?"
   ]
  },
  {
   "cell_type": "markdown",
   "metadata": {},
   "source": [
    "#### Решение:\n",
    "\n",
    "Вероятность поймать $K$ рыб за $N$ забросов определяется формулой$$\\displaystyle\\sum_{k = K}^{N} C_N^k \\cdot p^k \\cdot (1-p)^{N-k}$$\n",
    "\n",
    "Для нашей задачи $K=10$, $p=0.01$. Для ответа на вопрос, достаточно определить минимальное $N$, при котором$$\\displaystyle\\sum_{k = 0}^{K-1} C_N^k \\cdot p^k \\cdot (1-p)^{N-k} \\leq 0.1$$"
   ]
  },
  {
   "cell_type": "markdown",
   "metadata": {},
   "source": [
    "Напишем функцию, которая считает эту сумму и методом перебора найдём $N$.\n",
    "\n",
    "Сначала напишем функцию для расчёта числф сочетаний из n по k:"
   ]
  },
  {
   "cell_type": "code",
   "execution_count": 7,
   "metadata": {},
   "outputs": [],
   "source": [
    "comb = lambda n, k: 0 if k > n else np.math.factorial(n) // (np.math.factorial(k) * np.math.factorial(n-k))"
   ]
  },
  {
   "cell_type": "code",
   "execution_count": 8,
   "metadata": {},
   "outputs": [],
   "source": [
    "def sum_comb(K: int, N: int, p: float) -> float:\n",
    "    return sum(comb(N, k) * (p**k) * ((1-p)**(N-k)) for k in range(K))"
   ]
  },
  {
   "cell_type": "code",
   "execution_count": 9,
   "metadata": {},
   "outputs": [],
   "source": [
    "N = 0\n",
    "while True:\n",
    "    if (sum_comb(10, N, 0.01) <= 0.1):\n",
    "        break\n",
    "    N += 1"
   ]
  },
  {
   "cell_type": "markdown",
   "metadata": {},
   "source": [
    "#### Ответ:"
   ]
  },
  {
   "cell_type": "code",
   "execution_count": 10,
   "metadata": {},
   "outputs": [
    {
     "name": "stdout",
     "output_type": "stream",
     "text": [
      "\n",
      "Нужно сделать 1418 забросов удочки\n",
      "\n"
     ]
    }
   ],
   "source": [
    "print(f'\\nНужно сделать {N} забросов удочки\\n')"
   ]
  }
 ],
 "metadata": {
  "kernelspec": {
   "display_name": "Python 3",
   "language": "python",
   "name": "python3"
  },
  "language_info": {
   "codemirror_mode": {
    "name": "ipython",
    "version": 3
   },
   "file_extension": ".py",
   "mimetype": "text/x-python",
   "name": "python",
   "nbconvert_exporter": "python",
   "pygments_lexer": "ipython3",
   "version": "3.7.6"
  }
 },
 "nbformat": 4,
 "nbformat_minor": 4
}
