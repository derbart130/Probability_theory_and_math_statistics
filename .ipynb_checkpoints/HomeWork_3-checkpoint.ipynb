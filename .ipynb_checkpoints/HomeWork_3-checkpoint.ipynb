{
 "cells": [
  {
   "cell_type": "markdown",
   "metadata": {},
   "source": [
    "# Home Work 3"
   ]
  },
  {
   "cell_type": "markdown",
   "metadata": {},
   "source": [
    "Импортируем необходимые для выполнения задания библиотеки "
   ]
  },
  {
   "cell_type": "code",
   "execution_count": 1,
   "metadata": {},
   "outputs": [],
   "source": [
    "import numpy as np\n",
    "import pandas as pd\n",
    "from matplotlib import pyplot as plt\n",
    "import seaborn as sns"
   ]
  },
  {
   "cell_type": "markdown",
   "metadata": {},
   "source": [
    "## Задача 1\n",
    "\n",
    "Даны значения зарплат из выборки выпускников:\n",
    "\n",
    "100, 80, 75, 77, 89, 33, 45, 25, 65, 17, 30, 24, 57, 55, 70, 75, 65, 84, 90, 150.\n",
    "\n",
    "Без использования статистических функций вроде **mean**, **std**, **var**, посчитать среднее арифметическое, среднее квадратичное отклонение, смещенную и несмещенную оценки дисперсий для данной выборки."
   ]
  },
  {
   "cell_type": "markdown",
   "metadata": {},
   "source": [
    "### Решение:"
   ]
  },
  {
   "cell_type": "code",
   "execution_count": 2,
   "metadata": {},
   "outputs": [],
   "source": [
    "# Выборка\n",
    "\n",
    "sel = np.array([100, 80, 75, 77, 89, 33, 45, 25, 65, 17, 30, 24, 57, 55, 70, 75, 65, 84, 90, 150])"
   ]
  },
  {
   "cell_type": "markdown",
   "metadata": {},
   "source": [
    "- Среднее арифметическое значение выборки расчитывается по формуле: \n",
    "\n",
    "$$\\overline{x} = \\dfrac{1}{m} \\displaystyle\\sum_{i = 1}^m x_i.$$"
   ]
  },
  {
   "cell_type": "code",
   "execution_count": 3,
   "metadata": {},
   "outputs": [
    {
     "data": {
      "text/plain": [
       "65.3"
      ]
     },
     "execution_count": 3,
     "metadata": {},
     "output_type": "execute_result"
    }
   ],
   "source": [
    "# Разделим сумму всех элементов выборки на их количество\n",
    "\n",
    "mean_calc = sum(sel) / len(sel)\n",
    "mean_calc"
   ]
  },
  {
   "cell_type": "code",
   "execution_count": 4,
   "metadata": {},
   "outputs": [
    {
     "data": {
      "text/plain": [
       "65.3"
      ]
     },
     "execution_count": 4,
     "metadata": {},
     "output_type": "execute_result"
    }
   ],
   "source": [
    "# Проверим вычисления при помощи встроенного метода 'mean'\n",
    "\n",
    "mean_check = sel.mean()\n",
    "mean_check"
   ]
  },
  {
   "cell_type": "markdown",
   "metadata": {},
   "source": [
    "- Среднее квадратическое отклонение расчитывается по формуле:\n",
    "\n",
    "$$\\sigma = \\sqrt{\\dfrac{1}{m} \\displaystyle\\sum_{i = 1}^m (x_i - \\overline{x})^2}.$$"
   ]
  },
  {
   "cell_type": "code",
   "execution_count": 5,
   "metadata": {},
   "outputs": [
    {
     "data": {
      "text/plain": [
       "30.823854398825596"
      ]
     },
     "execution_count": 5,
     "metadata": {},
     "output_type": "execute_result"
    }
   ],
   "source": [
    "asd_calc = np.sqrt(sum((x - mean_calc)**2 for x in sel) / len(sel))\n",
    "asd_calc"
   ]
  },
  {
   "cell_type": "code",
   "execution_count": 6,
   "metadata": {},
   "outputs": [
    {
     "data": {
      "text/plain": [
       "30.823854398825596"
      ]
     },
     "execution_count": 6,
     "metadata": {},
     "output_type": "execute_result"
    }
   ],
   "source": [
    "# Проверим вычисления при помощи встроенного метода 'std'\n",
    "\n",
    "asd_check = sel.std(ddof=0)\n",
    "asd_check"
   ]
  },
  {
   "cell_type": "markdown",
   "metadata": {},
   "source": [
    "- Дисперсия расчитывается как среднее квадратическое отклонение выборки, возведённое в квадрат (это формула для смещённой дисперсиии.):\n",
    "\n",
    "$$\\sigma^2 = \\dfrac{1}{m} \\displaystyle\\sum_{i = 1}^m (x_i - \\overline{x})^2.$$\n",
    "\n",
    "   Несмещённую дисперсию расчитывают по формуле:\n",
    "\n",
    "$$\\sigma_{\\text{unbiased}}^2 = \\dfrac{1}{m - 1} \\displaystyle\\sum_{i = 1}^m (x_i - \\overline{x})^2.$$"
   ]
  },
  {
   "cell_type": "code",
   "execution_count": 7,
   "metadata": {},
   "outputs": [
    {
     "data": {
      "text/plain": [
       "950.11"
      ]
     },
     "execution_count": 7,
     "metadata": {},
     "output_type": "execute_result"
    }
   ],
   "source": [
    "# Смещённая дисперсия\n",
    "\n",
    "var_offset_calc = sum((x - mean_calc)**2 for x in sel) / len(sel)\n",
    "var_offset_calc"
   ]
  },
  {
   "cell_type": "code",
   "execution_count": 8,
   "metadata": {},
   "outputs": [
    {
     "data": {
      "text/plain": [
       "1000.1157894736842"
      ]
     },
     "execution_count": 8,
     "metadata": {},
     "output_type": "execute_result"
    }
   ],
   "source": [
    "# Несмещённая дисперсия\n",
    "\n",
    "var_calc = sum((x - mean_calc)**2 for x in sel) / (len(sel) - 1)\n",
    "var_calc"
   ]
  },
  {
   "cell_type": "code",
   "execution_count": 9,
   "metadata": {},
   "outputs": [
    {
     "name": "stdout",
     "output_type": "stream",
     "text": [
      "\n",
      "Смещённая дисперсия = 950.11\n",
      "Несмещённая дисперсия = 1000.1157894736842\n"
     ]
    }
   ],
   "source": [
    "# Проверим вычисления при помощи встроенного метода 'var'\n",
    "\n",
    "var_offset_check = sel.var(ddof=0)\n",
    "var_check = sel.var(ddof=1)\n",
    "print(f'\\nСмещённая дисперсия = {var_offset_check}\\nНесмещённая дисперсия = {var_check}')"
   ]
  },
  {
   "cell_type": "markdown",
   "metadata": {},
   "source": [
    "### Ответ:"
   ]
  },
  {
   "cell_type": "code",
   "execution_count": 10,
   "metadata": {},
   "outputs": [
    {
     "name": "stdout",
     "output_type": "stream",
     "text": [
      "Среднее арифметическое значение выборки = 65.3\n",
      "\n",
      "Среднее квадратическое отклонение = 30.823854398825596\n",
      "\n",
      "Смещённая дисперсия = 950.11\n",
      "\n",
      "Несмещённая дисперсия = 1000.1157894736842\n"
     ]
    }
   ],
   "source": [
    "print(f'Среднее арифметическое значение выборки = {mean_calc}')\n",
    "print(f'\\nСреднее квадратическое отклонение = {asd_calc}')\n",
    "print(f'\\nСмещённая дисперсия = {var_offset_calc}')\n",
    "print(f'\\nНесмещённая дисперсия = {var_calc}')"
   ]
  },
  {
   "cell_type": "markdown",
   "metadata": {},
   "source": [
    "## Задача 2\n",
    "\n",
    "Для выборки из задачи 1 найти первый и третий квартили, интерквартильное расстояние. Найти выбросы в выборке, используя для этого \"усы\" из boxplot."
   ]
  },
  {
   "cell_type": "markdown",
   "metadata": {},
   "source": [
    "### Решение:\n",
    "\n",
    "- Вычислим значения квантилий при помощи метода np.quantile"
   ]
  },
  {
   "cell_type": "code",
   "execution_count": 28,
   "metadata": {},
   "outputs": [
    {
     "name": "stdout",
     "output_type": "stream",
     "text": [
      "42.0 81.0\n"
     ]
    }
   ],
   "source": [
    "q_1 = np.quantile(sel, 0.25)\n",
    "q_3 = np.quantile(sel, 0.75)"
   ]
  },
  {
   "cell_type": "markdown",
   "metadata": {},
   "source": [
    "- В наших данных интерквартильный размах — это отрезок от 42 до 81. Интерквартильное расстояние в этом случае равно:"
   ]
  },
  {
   "cell_type": "code",
   "execution_count": 29,
   "metadata": {},
   "outputs": [
    {
     "data": {
      "text/plain": [
       "39.0"
      ]
     },
     "execution_count": 29,
     "metadata": {},
     "output_type": "execute_result"
    }
   ],
   "source": [
    "iqr = q_3 - q_1"
   ]
  },
  {
   "cell_type": "markdown",
   "metadata": {},
   "source": [
    "- Найдём выбросы. Для этого вычислим значения \"усов\" boxplot и найдём значения за границами этих значений."
   ]
  },
  {
   "cell_type": "code",
   "execution_count": 45,
   "metadata": {},
   "outputs": [
    {
     "data": {
      "image/png": "[encoded data removed]",
      "text/plain": [
       "<Figure size 720x504 with 1 Axes>"
      ]
     },
     "metadata": {
      "needs_background": "light"
     },
     "output_type": "display_data"
    }
   ],
   "source": [
    "plt.figure(figsize=(10, 7))\n",
    "sns.boxplot(sel, orient='v')\n",
    "plt.yticks(np.arange(0, 170, 10));"
   ]
  },
  {
   "cell_type": "code",
   "execution_count": 41,
   "metadata": {},
   "outputs": [
    {
     "data": {
      "text/plain": [
       "[150]"
      ]
     },
     "execution_count": 41,
     "metadata": {},
     "output_type": "execute_result"
    }
   ],
   "source": [
    "sel_sorted = sorted(sel)\n",
    "sel_outliers = list(filter(lambda x: x < q_1-iqr*1.5 or x > q_3+iqr*1.5, sel_sorted))\n",
    "sel_outliers"
   ]
  },
  {
   "cell_type": "markdown",
   "metadata": {},
   "source": [
    "### Ответ:"
   ]
  },
  {
   "cell_type": "code",
   "execution_count": 43,
   "metadata": {},
   "outputs": [
    {
     "name": "stdout",
     "output_type": "stream",
     "text": [
      "\n",
      "Значения квантилий:\n",
      " - Первый - 42.0\n",
      " - Третий - 81.0\n",
      "Интерквартильный размах - 39.0\n",
      "Выбросы - [150]\n"
     ]
    }
   ],
   "source": [
    "print(f'\\nЗначения квантилий:\\n - Первый - {q_1}\\n - Третий - {q_3}\\nИнтерквартильный размах - {iqr}\\nВыбросы - {sel_outliers}')"
   ]
  },
  {
   "cell_type": "markdown",
   "metadata": {},
   "source": [
    "## Задача 3\n",
    "\n",
    "В университет на факультеты A и B поступило равное количество студентов, а на факультет C студентов поступило столько же, сколько на A и B вместе. Вероятность того, что студент факультета A сдаст первую сессию, равна 0.8. Для студента факультета B эта вероятность равна 0.7, а для студента факультета C - 0.9. Студент сдал первую сессию. Какова вероятность, что он учится: a) на факультете A? б) на факультете B? в) на факультете C?"
   ]
  },
  {
   "cell_type": "markdown",
   "metadata": {},
   "source": [
    "Обозначим $X_i$ - обытие что студент учится на факультете $i$. $Y$ - событие, что студент сдал первую сессию. Тогда:\n",
    "\n",
    "$$P(X_A) = P(X_B) = 0.25,$$\n",
    "\n",
    "$$P(X_C) = 0.5$$\n",
    "\n",
    "$$P(Y|X_A) = 0.8,$$\n",
    "\n",
    "$$P(Y|X_B) = 0.7$$ \n",
    "\n",
    "$$P(Y|X_C) = 0.9$$\n",
    "\n",
    "Требуется найти вероятности $P(X_A|Y), P(X_B|Y), P(X_C|Y)$.\n",
    "\n",
    "Воспользуемся формулой Байеса:\n",
    "\n",
    "$$P(X|Y)=\\frac{P(Y|X) \\cdot P(X)}{P(Y)}$$\n",
    "\n",
    "Найдём $P(Y)$ по формуле полной вероятности:\n",
    "\n",
    "$$P(Y) = P(Y|X_A) \\cdot P(X_A) + P(Y|X_B) \\cdot P(X_B) + P(Y|X_C) \\cdot P(X_C)$$\n",
    "\n",
    "$$P(B) = 0.8 \\cdot 0.25 + 0.7 \\cdot 0.25 + 0.9 \\cdot 0.5 = 0.825$$\n",
    "\n",
    "Посчитаем искомые вероятности:\n",
    "\n",
    "$$P(A_A|B) = \\frac{0.8 \\cdot 0.25}{0.825} = 0.2424$$\n",
    "\n",
    "$$P(A_B|B) = \\frac{0.7 \\cdot 0.25}{0.825} = 0.2121$$\n",
    "\n",
    "$$P(A_C|B) = \\frac{0.9 \\cdot 0.5}{0.825} = 0.5455$$"
   ]
  },
  {
   "cell_type": "code",
   "execution_count": null,
   "metadata": {},
   "outputs": [],
   "source": []
  }
 ],
 "metadata": {
  "kernelspec": {
   "display_name": "Python 3",
   "language": "python",
   "name": "python3"
  },
  "language_info": {
   "codemirror_mode": {
    "name": "ipython",
    "version": 3
   },
   "file_extension": ".py",
   "mimetype": "text/x-python",
   "name": "python",
   "nbconvert_exporter": "python",
   "pygments_lexer": "ipython3",
   "version": "3.7.6"
  }
 },
 "nbformat": 4,
 "nbformat_minor": 4
}
