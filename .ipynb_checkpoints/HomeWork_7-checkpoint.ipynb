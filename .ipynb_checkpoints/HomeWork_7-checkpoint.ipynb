{
 "cells": [
  {
   "cell_type": "markdown",
   "metadata": {},
   "source": [
    "# Home Work 7"
   ]
  },
  {
   "cell_type": "code",
   "execution_count": 1,
   "metadata": {},
   "outputs": [],
   "source": [
    "import pandas as pd\n",
    "import numpy as np\n",
    "from matplotlib import pyplot as plt\n",
    "from scipy import stats"
   ]
  },
  {
   "cell_type": "markdown",
   "metadata": {},
   "source": [
    "## Задача 1\n",
    "\n",
    "Дана матрица объект-признак\n",
    "\n",
    "**X** = [[ 1.22401313, 2.30868478, 3.03636353, 2.69287214],  \n",
    "    [-0.18757272, 1.30337355, 5.12093014, 3.46363202],  \n",
    "    [-0.81094525, 1.82463398, 5.79686488, 1.86159445],  \n",
    "    [ 0.75129018, 2.67392052, 3.65529809, 1.66746094],  \n",
    "    [ 0.00972362, 1.97367255, 2.50594319, 1.69755173],  \n",
    "    [-0.62972637, 0.77750764, 2.84124027, 4.54410559],  \n",
    "    [ 2.29536229, 1.81206697, 1.95026215, 1.51874636],  \n",
    "    [ 0.0920418 , 2.26971361, 7.47708735, 2.61081203],  \n",
    "    [ 2.39252799, 3.17563985, 3.61420599, 5.10773362],  \n",
    "    [ 0.54983815, 2.87988651, 1.65752765, 1.59635987]]  \n",
    "\n",
    "и значения целевой переменной\n",
    "\n",
    "y = [ 9.26193358, 9.700363 , 8.67214805, 8.74796974, 6.18689108,\n",
    "7.53312713, 7.57643777, 12.44965478, 14.29010746, 6.68361218]\n",
    "\n",
    "1. Подберите два признака (из четырёх) так, чтобы уровень линейной зависимости целевой переменной от значений этих признаков был максимальным. Другими словами, модель линейной регрессии на этих признаках должна давать наилучший результат.\n",
    "2. Является ли значимым получившееся уравнение регрессии?"
   ]
  },
  {
   "cell_type": "markdown",
   "metadata": {},
   "source": [
    "### Решение:  "
   ]
  },
  {
   "cell_type": "markdown",
   "metadata": {},
   "source": [
    "1. \n",
    "Для нахождения коэффициентов линейной регрессии будем использовать метод наименьших квадратов:  $$b = (X^\\top X)^{-1} X^\\top Y.$$  \n",
    "Для оценки качества модели будем использовать коэффициент детерминации:  $$R^2 = 1 - \\dfrac{SS_{res}}{SS_{y}}$$"
   ]
  },
  {
   "cell_type": "code",
   "execution_count": 2,
   "metadata": {},
   "outputs": [],
   "source": [
    "X = pd.DataFrame([[ 1.22401313, 2.30868478, 3.03636353, 2.69287214],  \n",
    "    [-0.18757272, 1.30337355, 5.12093014, 3.46363202],  \n",
    "    [-0.81094525, 1.82463398, 5.79686488, 1.86159445],  \n",
    "    [ 0.75129018, 2.67392052, 3.65529809, 1.66746094],  \n",
    "    [ 0.00972362, 1.97367255, 2.50594319, 1.69755173],  \n",
    "    [-0.62972637, 0.77750764, 2.84124027, 4.54410559],  \n",
    "    [ 2.29536229, 1.81206697, 1.95026215, 1.51874636],  \n",
    "    [ 0.0920418 , 2.26971361, 7.47708735, 2.61081203],  \n",
    "    [ 2.39252799, 3.17563985, 3.61420599, 5.10773362],  \n",
    "    [ 0.54983815, 2.87988651, 1.65752765, 1.59635987]])\n",
    "Y = np.array([ 9.26193358, 9.700363 , 8.67214805, 8.74796974, 6.18689108,\n",
    "7.53312713, 7.57643777, 12.44965478, 14.29010746, 6.68361218])"
   ]
  },
  {
   "cell_type": "code",
   "execution_count": 3,
   "metadata": {},
   "outputs": [
    {
     "data": {
      "text/plain": [
       "((10, 4), (10,))"
      ]
     },
     "execution_count": 3,
     "metadata": {},
     "output_type": "execute_result"
    }
   ],
   "source": [
    "X.shape, Y.shape"
   ]
  },
  {
   "cell_type": "code",
   "execution_count": 4,
   "metadata": {},
   "outputs": [],
   "source": [
    "def sum_of_squares(samples):\n",
    "    return ((samples - samples.mean()) ** 2).sum()"
   ]
  },
  {
   "cell_type": "code",
   "execution_count": 5,
   "metadata": {
    "scrolled": true
   },
   "outputs": [
    {
     "name": "stdout",
     "output_type": "stream",
     "text": [
      "Номера признаков: (0, 1)\n",
      "Коэффициент детерминации: 0.18113594742585215\n",
      "Номера признаков: (0, 2)\n",
      "Коэффициент детерминации: 0.7634246238793152\n",
      "Номера признаков: (0, 3)\n",
      "Коэффициент детерминации: 0.45329667831440756\n",
      "Номера признаков: (1, 2)\n",
      "Коэффициент детерминации: 0.5479482734039012\n",
      "Номера признаков: (1, 3)\n",
      "Коэффициент детерминации: 0.6062055761129932\n",
      "Номера признаков: (2, 3)\n",
      "Коэффициент детерминации: 0.6224419876505322\n"
     ]
    }
   ],
   "source": [
    "x_1 = 0\n",
    "while x_1 <= 3:\n",
    "    for i in range(1, 4):\n",
    "        x_2 = x_1 + i\n",
    "        if x_2 <= 3:\n",
    "            A = X[[x_1, x_2]].values\n",
    "            ones = np.ones((A.shape[0], 1))\n",
    "            A = np.hstack((ones, A))\n",
    "            XTX = A.T.dot(A)\n",
    "            XTX_inv = np.linalg.inv(XTX)\n",
    "            b = XTX_inv.dot(A.T).dot(Y)\n",
    "            z = A.dot(b)\n",
    "            r = 1 - ((Y - z)**2).sum() / sum_of_squares(Y)\n",
    "            print(f'Номера признаков: {x_1, x_2}\\nКоэффициент детерминации: {r}')\n",
    "        else:\n",
    "            break\n",
    "    x_1 += 1    "
   ]
  },
  {
   "cell_type": "markdown",
   "metadata": {},
   "source": [
    "Таким образом получаем, что наилучший результат даёт модель линейной регрессии с признаками: X[0] и X[1]"
   ]
  },
  {
   "cell_type": "code",
   "execution_count": 6,
   "metadata": {},
   "outputs": [
    {
     "name": "stdout",
     "output_type": "stream",
     "text": [
      "[ 9.29205855  9.52293042  9.32854895  9.2734825   6.67593463  6.04279092\n",
      "  9.71768655 12.83152181 11.89122916  6.52606129]\n",
      "Коэффициент детерминации: 0.7634246238793152\n"
     ]
    }
   ],
   "source": [
    "A = X[[0, 2]].values\n",
    "ones = np.ones((A.shape[0], 1))\n",
    "A = np.hstack((ones, A))\n",
    "XTX = A.T.dot(A)\n",
    "XTX_inv = np.linalg.inv(XTX)\n",
    "b = XTX_inv.dot(A.T).dot(Y)\n",
    "result = A.dot(b)\n",
    "r = 1 - ((Y - result)**2).sum() / sum_of_squares(Y)\n",
    "print(result)\n",
    "print(f'Коэффициент детерминации: {r}')"
   ]
  },
  {
   "cell_type": "markdown",
   "metadata": {},
   "source": [
    "2. Коэффициент детерминации, равный  0.7643 , означает, что  76%  дисперсии переменной  Y  учитывается или объясняется моделью. Оставшиеся  24%  обусловлены какими-то ещё факторами, которые при построении модели не учитывались."
   ]
  },
  {
   "cell_type": "markdown",
   "metadata": {},
   "source": [
    "Оценим построенное уравнение регрессии с помощью F-критерия Фишера: $$F_{факт} = \\frac{r_{xy}^{2}}{(1 - r_{xy}^{2})} \\cdot \\frac{k_2}{k_1}$$\n",
    "где:\n",
    "$R^2$ – коэффициент детерминации,  \n",
    "    $n$ – число наблюдений,  \n",
    "    $k$ – число факторов,  \n",
    "    $F_{crit}$ – критическое значение."
   ]
  },
  {
   "cell_type": "code",
   "execution_count": 7,
   "metadata": {},
   "outputs": [
    {
     "name": "stdout",
     "output_type": "stream",
     "text": [
      "F = 11.29443912292265\n"
     ]
    }
   ],
   "source": [
    "n = result.shape[0]\n",
    "k1 = 2\n",
    "k2 = n - k1 - 1\n",
    "F = (r / (1 - r)) * (k2 / k1)\n",
    "print(f'F = {F}')"
   ]
  },
  {
   "cell_type": "code",
   "execution_count": 8,
   "metadata": {},
   "outputs": [
    {
     "name": "stdout",
     "output_type": "stream",
     "text": [
      "F_crit = 4.73741412777588\n"
     ]
    }
   ],
   "source": [
    "p = 0.95\n",
    "alpha = 1 - p\n",
    "F_crit = stats.f.ppf(1 - alpha, k1, k2)\n",
    "print(f'F_crit = {F_crit}')"
   ]
  },
  {
   "cell_type": "markdown",
   "metadata": {},
   "source": [
    "Имеем $F>F_{crit}$, следовательно уравнение регрессии статистически значимо."
   ]
  },
  {
   "cell_type": "markdown",
   "metadata": {},
   "source": [
    "### Задача 2\n",
    "\n",
    "Даны значения величины заработной платы заемщиков банка (salary) и значения их поведенческого кредитного скоринга (scoring):\n",
    "\n",
    "salary = [35, 45, 190, 200, 40, 70, 54, 150, 120, 110]\n",
    "scoring = [401, 574, 874, 919, 459, 739, 653, 902, 746, 832]\n",
    "\n",
    "Возьмём в качестве признака значение salary, а в качестве целевой переменной - scoring.\n",
    "\n",
    "1. Найдите коэффициенты линейной регрессии с помощью формул для парной регрессии, а затем с помощью метода наименьших квадратов.\n",
    "2. Постройте scatter plot по данным и отметьте на нём прямую линейной регрессии, полученную в п. 1.\n",
    "3. Посчитайте коэффициент детерминации.\n",
    "4. Оцените построенное уравнение регрессии с помощью F-критерия Фишера.\n",
    "5. Посчитать среднюю ошибку аппроксимации"
   ]
  },
  {
   "cell_type": "markdown",
   "metadata": {},
   "source": [
    "### Решение:"
   ]
  },
  {
   "cell_type": "code",
   "execution_count": 9,
   "metadata": {},
   "outputs": [],
   "source": [
    "x = np.array([35, 45, 190, 200, 40, 70, 54, 150, 120, 110])\n",
    "y = np.array([401, 574, 874, 919, 459, 739, 653, 902, 746, 832])"
   ]
  },
  {
   "cell_type": "markdown",
   "metadata": {},
   "source": [
    "**1.** Найдите коэффициенты линейной регрессии с помощью формул для парной регрессии, а затем с помощью метода наименьших квадратов."
   ]
  },
  {
   "cell_type": "markdown",
   "metadata": {},
   "source": [
    "***а)*** Найдём коэффициенты линейной регрессии с помощью формул для парной регрессии:\n",
    "$$b_1 = \\frac{\\overline{yx} - \\overline{y} \\cdot {\\overline{x}}}{\\overline{x^2} - (\\overline{x})^2}, \\: b_0 = \\overline{y} - b_1 \\cdot {\\overline{x}}.$$"
   ]
  },
  {
   "cell_type": "code",
   "execution_count": 10,
   "metadata": {},
   "outputs": [
    {
     "data": {
      "text/plain": [
       "2.6205388824027653"
      ]
     },
     "execution_count": 10,
     "metadata": {},
     "output_type": "execute_result"
    }
   ],
   "source": [
    "b1 = np.cov(x, y, ddof=0)[0, 1] / np.var(x, ddof=0) \n",
    "b1"
   ]
  },
  {
   "cell_type": "code",
   "execution_count": 11,
   "metadata": {},
   "outputs": [
    {
     "data": {
      "text/plain": [
       "444.17735732435955"
      ]
     },
     "execution_count": 11,
     "metadata": {},
     "output_type": "execute_result"
    }
   ],
   "source": [
    "b0 = y.mean() - b1 * x.mean()\n",
    "b0"
   ]
  },
  {
   "cell_type": "markdown",
   "metadata": {},
   "source": [
    "Итак, уравнение регрессии имеет вид (коэффициенты округлены до сотых):$$y = 444.18 + 2.62 \\cdot x$$т.е. с увеличением зарплаты на 1 условную единицу кредитный скоринг увеличивается на 2.62 ед"
   ]
  },
  {
   "cell_type": "markdown",
   "metadata": {},
   "source": [
    "***b)*** Найдём коэффициенты линейной регрессии с помощью МНК:\n",
    "\n",
    "Для удобства записи введём дополнительный «фактор» x0 = 1. Поиск коэффициентов линейной регрессии сводится к решению системы линейных уравнений:$$y = X \\cdot b$$где b — столбец коэффициентов регрессии, X — матрица объект-признак, y — столбец целевой переменной. Чаще всего такая система не имеет решений, поэтому задача состоит в минимизации расстояния между векторами $X \\cdot b$ и $y$:$$(X \\cdot b - y)^\\top \\cdot (X \\cdot b - y) \\rightarrow \\min_b.$$Для такой задачи возможно записать аналитическое решение:$$b = (X^\\top X)^{-1} X^\\top y.$$"
   ]
  },
  {
   "cell_type": "code",
   "execution_count": 12,
   "metadata": {},
   "outputs": [
    {
     "data": {
      "text/plain": [
       "array([[401],\n",
       "       [574],\n",
       "       [874],\n",
       "       [919],\n",
       "       [459],\n",
       "       [739],\n",
       "       [653],\n",
       "       [902],\n",
       "       [746],\n",
       "       [832]])"
      ]
     },
     "execution_count": 12,
     "metadata": {},
     "output_type": "execute_result"
    }
   ],
   "source": [
    "x2 = x.reshape(-1, 1)\n",
    "\n",
    "y2 = y.reshape(-1, 1)\n",
    "y2"
   ]
  },
  {
   "cell_type": "markdown",
   "metadata": {},
   "source": [
    "К матрице 𝑋 (массив x1) нужно также добавить столбец из 1 , соответствующий фиктивному фактору."
   ]
  },
  {
   "cell_type": "code",
   "execution_count": 13,
   "metadata": {},
   "outputs": [],
   "source": [
    "ones = np.ones((x2.shape[0], 1))\n",
    "x2 = np.hstack((ones, x2))"
   ]
  },
  {
   "cell_type": "markdown",
   "metadata": {},
   "source": [
    "Запишем матрицу 𝑋⊤𝑋 и посчитаем её определитель."
   ]
  },
  {
   "cell_type": "code",
   "execution_count": 14,
   "metadata": {},
   "outputs": [
    {
     "data": {
      "text/plain": [
       "349464.00000000023"
      ]
     },
     "execution_count": 14,
     "metadata": {},
     "output_type": "execute_result"
    }
   ],
   "source": [
    "XTX = x2.T.dot(x2)\n",
    "\n",
    "np.linalg.det(XTX)"
   ]
  },
  {
   "cell_type": "markdown",
   "metadata": {},
   "source": [
    "Определитель не близок к нулю, поэтому можно записать аналитическое решение:"
   ]
  },
  {
   "cell_type": "code",
   "execution_count": 15,
   "metadata": {},
   "outputs": [
    {
     "name": "stdout",
     "output_type": "stream",
     "text": [
      "[[444.17735732]\n",
      " [  2.62053888]]\n"
     ]
    }
   ],
   "source": [
    "XTX_inv = np.linalg.inv(XTX)\n",
    "\n",
    "b = XTX_inv.dot(x2.T).dot(y2)\n",
    "\n",
    "print(b)"
   ]
  },
  {
   "cell_type": "markdown",
   "metadata": {},
   "source": [
    "\n",
    "Модель линейной регрессии$$y = b_0 + b_1 x_1 + \\dots + b_k x_k$$называется несмещённой, если математические ожидания правой и левой части равны:$$M(y) = M(b_0 + b_1 x_1 + \\dots + b_k x_k)$$Как правило, несмещённые модели имеют лучшую обобщающую способность, чем смещённые, несмотря на то, что смещённые модели могут потенциально давать лучшие значения метрик качества (о них — чуть позже), чем несмещённые.\n",
    "\n",
    "Проверим несмещённость уравнения регрессии из предыдущего примера:"
   ]
  },
  {
   "cell_type": "code",
   "execution_count": 16,
   "metadata": {},
   "outputs": [
    {
     "data": {
      "text/plain": [
       "(709.8999999999999, 709.9)"
      ]
     },
     "execution_count": 16,
     "metadata": {},
     "output_type": "execute_result"
    }
   ],
   "source": [
    "x2.dot(b).mean(), y2.mean()"
   ]
  },
  {
   "cell_type": "markdown",
   "metadata": {},
   "source": [
    "**2.** Постройте scatter plot по данным и отметьте на нём прямую линейной регрессии, полученную в п. 1."
   ]
  },
  {
   "cell_type": "code",
   "execution_count": 17,
   "metadata": {},
   "outputs": [
    {
     "data": {
      "image/png": "[encoded data removed]",
      "text/plain": [
       "<Figure size 432x288 with 1 Axes>"
      ]
     },
     "metadata": {
      "needs_background": "light"
     },
     "output_type": "display_data"
    }
   ],
   "source": [
    "ox = x\n",
    "oy = b0 + b1 * ox\n",
    "\n",
    "plt.scatter(x, y)\n",
    "plt.plot(ox, oy, color='red', alpha=0.5)\n",
    "\n",
    "plt.xlabel('salary')\n",
    "plt.ylabel('scoring');"
   ]
  },
  {
   "cell_type": "markdown",
   "metadata": {},
   "source": [
    "**3.** Посчитайте коэффициент детерминации \n",
    "\n",
    "Коэффициент детерминации:\n",
    "$$R^2 = 1 - \\dfrac{\\sigma^2_{res}}{\\sigma^2_{y}}$$\n",
    "Для несмещённых моделей регрессии коэффициент детерминации можно также посчитать как квадрат коэффициента корреляции между объясняемой переменной $y$ и предсказанной переменной $z$:$$R^2 = r_{yz}^2.$$"
   ]
  },
  {
   "cell_type": "code",
   "execution_count": 18,
   "metadata": {},
   "outputs": [
    {
     "data": {
      "text/plain": [
       "array([[401.        , 535.89621821],\n",
       "       [574.        , 562.10160703],\n",
       "       [874.        , 942.07974498],\n",
       "       [919.        , 968.2851338 ],\n",
       "       [459.        , 548.99891262]])"
      ]
     },
     "execution_count": 18,
     "metadata": {},
     "output_type": "execute_result"
    }
   ],
   "source": [
    "z = b0 + b1 * x\n",
    "\n",
    "np.vstack([y, z]).T[:5]"
   ]
  },
  {
   "cell_type": "code",
   "execution_count": 19,
   "metadata": {},
   "outputs": [
    {
     "data": {
      "text/plain": [
       "0.7876386635293686"
      ]
     },
     "execution_count": 19,
     "metadata": {},
     "output_type": "execute_result"
    }
   ],
   "source": [
    "R1 = 1 - (z - y).var() / y.var()\n",
    "R1"
   ]
  },
  {
   "cell_type": "markdown",
   "metadata": {},
   "source": [
    "Коэффициент детерминации, равный 0.7876 , означает, что 79% дисперсии переменной 𝑦 учитывается или объясняется моделью. Оставшиеся 21% обусловлены какими-то ещё факторами, которые модель не учла.\n",
    "\n",
    "Поскольку наша модель является несмещённой, то же значение можно посчитать как квадрат коэффициента корреляции между массивами x1 и y1:"
   ]
  },
  {
   "cell_type": "code",
   "execution_count": 20,
   "metadata": {},
   "outputs": [
    {
     "data": {
      "text/plain": [
       "array([[1.        , 0.78763866],\n",
       "       [0.78763866, 1.        ]])"
      ]
     },
     "execution_count": 20,
     "metadata": {},
     "output_type": "execute_result"
    }
   ],
   "source": [
    "np.corrcoef(x, y) ** 2"
   ]
  },
  {
   "cell_type": "markdown",
   "metadata": {},
   "source": [
    "**4.** Оцените построенное уравнение регрессии с помощью F-критерия Фишера.\n",
    "\n",
    "Оценить статистическую значимость уравнения линейной регрессии в целом можно с помощью F-критерия Фишера. Проверяется нулевая гипотеза о том, что все коэффициенты при факторах у регрессионной модели равны нулю (т.е. модель представляет из себя горизонтальную плоскость.)\n",
    "\n",
    "Используемая здесь статистика:$$F = \\dfrac{R^2 / k}{(1 - R^2) / (n - k - 1)},$$где $R^2$ — коэффициент детерминации, $n$ — число наблюдений, $k$ — число факторов. В литературе часто используются обозначения $k_1 = k$, $k_2 = n - k - 1$ (иногда вместо $k_1$, $k_2$ пишут также $f_1$, $f_2$).\n",
    "\n",
    "Данную статистику можно понимать как отношение объяснённой дисперсии к необъяснённой.\n",
    "\n",
    "Критическое значение $F_{сrit} = F(k_1, k_2)$ можно найти по таблице (например, по такой) или с помощью функции scipy.stats.f.ppf.\n",
    "\n",
    "Если $F > F_{crit}$, то нулевая гипотеза отвергается и уравнение регрессии признаётся статистически значимым."
   ]
  },
  {
   "cell_type": "code",
   "execution_count": 21,
   "metadata": {},
   "outputs": [
    {
     "data": {
      "text/plain": [
       "29.67164085966451"
      ]
     },
     "execution_count": 21,
     "metadata": {},
     "output_type": "execute_result"
    }
   ],
   "source": [
    "k1 = 1\n",
    "k2 = x.shape[0] - k1 - 1\n",
    "\n",
    "F1 = (R1 / k1) / ((1 - R1) / k2)\n",
    "F1"
   ]
  },
  {
   "cell_type": "markdown",
   "metadata": {},
   "source": [
    "Для уровня значимости $\\alpha = 0.05$ посчитаем по таблице значение $F_{crit} = F(1, 8)$. Оно равно $5.32$. То же самое с помощью scipy:"
   ]
  },
  {
   "cell_type": "code",
   "execution_count": 22,
   "metadata": {},
   "outputs": [
    {
     "data": {
      "text/plain": [
       "5.317655071578714"
      ]
     },
     "execution_count": 22,
     "metadata": {},
     "output_type": "execute_result"
    }
   ],
   "source": [
    "alpha = 0.05\n",
    "\n",
    "F_crit = stats.f.ppf(1 - alpha, k1, k2)\n",
    "F_crit"
   ]
  },
  {
   "cell_type": "markdown",
   "metadata": {},
   "source": [
    "Имеем $F > F_{crit}$, поэтому уравнение регрессии статистически значимо."
   ]
  },
  {
   "cell_type": "markdown",
   "metadata": {},
   "source": [
    "**5.** Посчитать среднюю ошибку аппроксимации.\n",
    "\n",
    "Cредняя ошибка аппроксимации вычисляется по формуле:$$\\overline{A} = \\frac{1}{n} \\displaystyle\\sum_{i=1}^{n} \\Bigl| {{\\frac{y_i - z_i}{y_i}} \\Bigr|}.$$\n",
    "\n",
    "Если $\\overline{A}$ не превышает $8$-$10 \\%$, можно сказать, что теоретические значения близки к тем, которые выдает модель линейной регрессии."
   ]
  },
  {
   "cell_type": "code",
   "execution_count": 23,
   "metadata": {},
   "outputs": [],
   "source": [
    "def mean_approximation_error(y_real: np.ndarray, y_pred: np.ndarray) -> float:\n",
    "    return np.abs((y_real - y_pred) / y_real).mean()"
   ]
  },
  {
   "cell_type": "code",
   "execution_count": 24,
   "metadata": {},
   "outputs": [
    {
     "data": {
      "text/plain": [
       "0.11469251843561708"
      ]
     },
     "execution_count": 24,
     "metadata": {},
     "output_type": "execute_result"
    }
   ],
   "source": [
    "mean_approximation_error(y, z)"
   ]
  }
 ],
 "metadata": {
  "kernelspec": {
   "display_name": "Python 3",
   "language": "python",
   "name": "python3"
  },
  "language_info": {
   "codemirror_mode": {
    "name": "ipython",
    "version": 3
   },
   "file_extension": ".py",
   "mimetype": "text/x-python",
   "name": "python",
   "nbconvert_exporter": "python",
   "pygments_lexer": "ipython3",
   "version": "3.7.6"
  }
 },
 "nbformat": 4,
 "nbformat_minor": 4
}
