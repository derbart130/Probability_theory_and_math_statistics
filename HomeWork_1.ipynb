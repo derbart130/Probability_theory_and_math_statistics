{
 "cells": [
  {
   "cell_type": "markdown",
   "metadata": {},
   "source": [
    "# Home Work 1"
   ]
  },
  {
   "cell_type": "code",
   "execution_count": 1,
   "metadata": {},
   "outputs": [],
   "source": [
    "import numpy as np\n",
    "from math import factorial"
   ]
  },
  {
   "cell_type": "markdown",
   "metadata": {},
   "source": [
    "## Задача 1\n",
    "\n",
    "Группа студентов изучает 10 различных дисциплин. Сколькими способами можно составить расписание на понедельник, если в этот день должно быть 4 разных занятия?"
   ]
  },
  {
   "cell_type": "markdown",
   "metadata": {},
   "source": [
    "#### Решение:"
   ]
  },
  {
   "cell_type": "markdown",
   "metadata": {},
   "source": [
    "Здесь необходимо найти число **сочетаний** из $n$ элементов по $k$ элементов в каждом (в сочетаниях порядок не важен).\n",
    "\n",
    "Будем использовать формулу:\n",
    "$$C_n^k = \\frac{n!}{k!(n - k)!}$$"
   ]
  },
  {
   "cell_type": "markdown",
   "metadata": {},
   "source": [
    "Напишем функцию для расчёта количества сочетаний:"
   ]
  },
  {
   "cell_type": "code",
   "execution_count": 2,
   "metadata": {},
   "outputs": [],
   "source": [
    "def combinations(n, k):\n",
    "    return int(factorial(n) / (factorial(k) * factorial(n - k)))"
   ]
  },
  {
   "cell_type": "markdown",
   "metadata": {},
   "source": [
    "#### Ответ:"
   ]
  },
  {
   "cell_type": "code",
   "execution_count": 3,
   "metadata": {},
   "outputs": [
    {
     "name": "stdout",
     "output_type": "stream",
     "text": [
      "\n",
      "Можно составить расписание на понедельник 210 способами.\n",
      "\n"
     ]
    }
   ],
   "source": [
    "print(f'\\nМожно составить расписание на понедельник {combinations(10, 4)} способами.\\n')"
   ]
  },
  {
   "cell_type": "markdown",
   "metadata": {},
   "source": [
    "## Задача 2\n",
    "\n",
    "Из колоды в 52 карты вынимают случайным образом 4 карты. Найти число исходов, соответствующих тому, что был вытянут хотя бы один туз."
   ]
  },
  {
   "cell_type": "markdown",
   "metadata": {},
   "source": [
    "#### Решение:"
   ]
  },
  {
   "cell_type": "markdown",
   "metadata": {},
   "source": [
    "Для решения этой задачи необходимо рассмотреть все ситуации когда из 4 выбранных карт будет 1, 2, 3 или 4 туза."
   ]
  },
  {
   "cell_type": "markdown",
   "metadata": {},
   "source": [
    "Найдём число исходов вытянуть 4 карты из колоды:"
   ]
  },
  {
   "cell_type": "code",
   "execution_count": 4,
   "metadata": {},
   "outputs": [
    {
     "data": {
      "text/plain": [
       "270725"
      ]
     },
     "execution_count": 4,
     "metadata": {},
     "output_type": "execute_result"
    }
   ],
   "source": [
    "combinations(52, 4)"
   ]
  },
  {
   "cell_type": "markdown",
   "metadata": {},
   "source": [
    "Теперь найдём число исходов вытянуть 4 карты, не вытянув ни одного туза:"
   ]
  },
  {
   "cell_type": "code",
   "execution_count": 5,
   "metadata": {},
   "outputs": [
    {
     "data": {
      "text/plain": [
       "194580"
      ]
     },
     "execution_count": 5,
     "metadata": {},
     "output_type": "execute_result"
    }
   ],
   "source": [
    "combinations(48, 4)"
   ]
  },
  {
   "cell_type": "markdown",
   "metadata": {},
   "source": [
    "Искомое число:\n",
    "\n",
    "#### Ответ:"
   ]
  },
  {
   "cell_type": "code",
   "execution_count": 6,
   "metadata": {},
   "outputs": [
    {
     "name": "stdout",
     "output_type": "stream",
     "text": [
      "\n",
      "Число исходов, соответствующих тому, что был вытянут хотя бы один туз 76145.\n",
      "\n"
     ]
    }
   ],
   "source": [
    "print(f'\\nЧисло исходов, соответствующих тому, что был вытянут хотя бы один туз {combinations(52, 4) - combinations(48, 4)}.\\n')"
   ]
  },
  {
   "cell_type": "markdown",
   "metadata": {},
   "source": [
    "## Задача 3\n",
    "\n",
    "Семь человек рассаживаются наудачу на скамейке. Какова вероятность того, что два определённых человека будут сидеть рядом?"
   ]
  },
  {
   "cell_type": "markdown",
   "metadata": {},
   "source": [
    "#### Решение:\n",
    "\n",
    "Всего рассадить 7 человек можно $7!$ способами. Рассадить двоих рядом, без учёта перестановок внутри пары, можно шестью способами. Число перестановок внутри группы из двух человек $A_2^2 = 2$. Рассадить оставшихся 5 человек по 5 местам можно $5!$ способами. В итоге получим$$P = \\frac{A_2^2\\cdot6\\cdot5!}{7!}$$"
   ]
  },
  {
   "cell_type": "markdown",
   "metadata": {},
   "source": [
    "Напишем функцию для расчёта числа размещений из $n$ элементов по $k$ элементов в каждом"
   ]
  },
  {
   "cell_type": "code",
   "execution_count": 7,
   "metadata": {},
   "outputs": [],
   "source": [
    "def arrangements(n, k):\n",
    "    return int(factorial(n) / factorial(n - k))"
   ]
  },
  {
   "cell_type": "markdown",
   "metadata": {},
   "source": [
    "#### Ответ:"
   ]
  },
  {
   "cell_type": "code",
   "execution_count": 8,
   "metadata": {},
   "outputs": [
    {
     "name": "stdout",
     "output_type": "stream",
     "text": [
      "\n",
      "Вероятность того, что два определённых человека будут сидеть рядом равна: 0.2857\n",
      "\n"
     ]
    }
   ],
   "source": [
    "p = (arrangements(2, 2) * 6* factorial(5)) / factorial(7)\n",
    "print(f'\\nВероятность того, что два определённых человека будут сидеть рядом равна: {round(p, 4)}\\n')"
   ]
  },
  {
   "cell_type": "markdown",
   "metadata": {},
   "source": [
    "## Задача 4\n",
    "\n",
    "Из 60 вопросов, входящих в экзаменационные билеты, студент знает 50. Какова вероятность того, что среди трёх наугад выбранных вопросов студент знает: а) все? б) два?"
   ]
  },
  {
   "cell_type": "markdown",
   "metadata": {},
   "source": [
    "#### Решение\n",
    "\n",
    "а) Всего возможных исходов вытянуть 3 билета из 60 $C_{60}^3$. Успешных исходов $C_{50}^3$. Искомая вероятность:\n",
    "$$P = \\frac{C_{50}^3}{C_{60}^3} = 0.5728$$\n",
    "\n",
    "б) Возможных исходов вытянуть 2 билета из 50 изученных $C_{50}^2$. Исходов вытянуть 1 билет из 10 неизученных $C_{10}^1$. Искомая вероятность:\n",
    "$$P = \\frac{C_{50}^2\\cdot C_{10}^1}{C_{60}^3}$$"
   ]
  },
  {
   "cell_type": "markdown",
   "metadata": {},
   "source": [
    "#### Ответ:"
   ]
  },
  {
   "cell_type": "code",
   "execution_count": 9,
   "metadata": {},
   "outputs": [
    {
     "name": "stdout",
     "output_type": "stream",
     "text": [
      "\n",
      "Вероятность того, что среди трёх наугад выбранных вопросов студент знает:\n",
      "\n",
      " a) Все: 1.7459\n",
      " б) Два: 0.358\n",
      "\n"
     ]
    }
   ],
   "source": [
    "p_a = combinations(60, 3) / combinations(50, 3)\n",
    "p_b = (combinations(50, 2) * combinations(10, 1)) / combinations(60, 3)\n",
    "print(f'\\nВероятность того, что среди трёх наугад выбранных вопросов студент знает:')\n",
    "print(f'\\n a) Все: {round(p_a, 4)}\\n б) Два: {round(p_b,4)}\\n')"
   ]
  },
  {
   "cell_type": "markdown",
   "metadata": {},
   "source": [
    "## Задача 5\n",
    "\n",
    "Бросается игральная кость. Пусть событие A - появление чётного числа, событие B - появление числа больше трёх. Являются ли эти события независимыми?"
   ]
  },
  {
   "cell_type": "markdown",
   "metadata": {},
   "source": [
    "#### Решение:\n",
    "\n",
    "По определению, события **A** и **B** будут независимыми, если:\n",
    "\n",
    "$$P(A|B) == P(A)$$ \n",
    "\n",
    "Мы знаем что вероятность выпадения чётного числа:\n",
    "\n",
    "$$P(A) = {1\\over2}$$.\n",
    "\n",
    "Вероятность наступления события **А**, при условии, что событие **В** уже произошло:\n",
    "\n",
    "$$P(A|B) = \\frac{P(AB)}{P(B)}$$\n",
    "\n",
    "Вероятность того что выпавшее число больше трёх и чётное $2\\over6$, так как под это условие подходят числа 4 и 6 из шести возможных. \n",
    "\n",
    "Вероятность того что выпавшее число будет больше трёх: $$P(B) = {3\\over6}$$ Значит: $$P(A|B) = {2\\over3}$$"
   ]
  },
  {
   "cell_type": "markdown",
   "metadata": {},
   "source": [
    "#### Ответ:\n",
    "\n",
    "Так как $P(A|B) \\neq P(A)$, то события A и B зависимы."
   ]
  },
  {
   "cell_type": "markdown",
   "metadata": {},
   "source": [
    "## Задача 6\n",
    "\n",
    "Допустим, имеется некоторая очень редкая болезнь (поражает 0.1 % населения). Вы приходите к врачу, вам делают тест на эту болезнь, и тест оказывается положительным. Врач говорит вам, что этот тест верно выявляет 99 % больных этой болезнью и всего лишь в 1 % случаев даёт ложный положительный ответ.\n",
    "\n",
    "Вопрос: какова вероятность, что вы действительно больны ей?"
   ]
  },
  {
   "cell_type": "markdown",
   "metadata": {},
   "source": [
    "#### Решение:\n",
    "\n",
    "Пусть $A$ - событие что пациент болен:$$P(A) = 0.001$$\n",
    "Тогда событие $\\overline A$ - пациент здоров:$$P(\\overline A) = 0.999$$\n",
    "\n",
    "Событие $B$ - тест показал что пациент болен. Это возможно, если пациент болен и прибор показал правильно:\n",
    "\n",
    "$$P(B|A) = 0.99,$$\n",
    "либо пациент здоров и тест ошибся:\n",
    "\n",
    "$$P(B|\\overline A) = 0.01.$$\n",
    "\n",
    "Вероятность события $B$:$$P(B) = P(A) \\cdot P(B|A) + P(\\overline A) \\cdot P(B|\\overline A)$$\n",
    "\n",
    "$$P(B) = 0.001  \\cdot 0.99 + 0.999 \\cdot 0.01 = 0.01098$$\n",
    "\n",
    "В задаче нужно найти $P(A|B)$, то есть что пациент болен при условии что прибор показал что пациент болен.$$P(A|B) = \\frac{P(B|A) \\cdot P(A)}{P(B)}$$\n",
    "\n",
    "$$P(A|B) = \\frac{0.99 \\cdot 0.001}{0.01098} = 0.090164$$"
   ]
  },
  {
   "cell_type": "markdown",
   "metadata": {},
   "source": [
    "#### Ответ:\n",
    "\n",
    "Вероятность, что вы действительно больны: 0.090164."
   ]
  }
 ],
 "metadata": {
  "kernelspec": {
   "display_name": "Python 3",
   "language": "python",
   "name": "python3"
  },
  "language_info": {
   "codemirror_mode": {
    "name": "ipython",
    "version": 3
   },
   "file_extension": ".py",
   "mimetype": "text/x-python",
   "name": "python",
   "nbconvert_exporter": "python",
   "pygments_lexer": "ipython3",
   "version": "3.7.6"
  }
 },
 "nbformat": 4,
 "nbformat_minor": 4
}
