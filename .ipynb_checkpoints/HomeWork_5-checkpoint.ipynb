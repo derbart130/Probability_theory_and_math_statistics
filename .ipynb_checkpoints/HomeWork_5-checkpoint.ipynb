{
 "cells": [
  {
   "cell_type": "markdown",
   "metadata": {},
   "source": [
    "# Home Work 5"
   ]
  },
  {
   "cell_type": "code",
   "execution_count": 1,
   "metadata": {},
   "outputs": [],
   "source": [
    "import numpy as np\n",
    "from scipy import stats"
   ]
  },
  {
   "cell_type": "markdown",
   "metadata": {},
   "source": [
    "## Задача 1\n",
    "\n",
    "Известно, что генеральная совокупность распределена нормально с известным средним квадратическим отклонением 16. Найти доверительный интервал для оценки математического ожидания $\\mu$ с надёжностью 0.95, если выборочное среднее равно 80, а объём равен 256."
   ]
  },
  {
   "cell_type": "markdown",
   "metadata": {},
   "source": [
    "### Решение:\n",
    "\n",
    "Задано $\\sigma = 16$, $p = 0.95$, $\\overline{X} = 80$, $n = 256$. Так как генеральная совокупность распределена нормально, то доверительный интервал оценки матожидания $\\mu$ можно найти по формуле\n",
    "\n",
    "$$\n",
    "P \\left(\n",
    "    \\overline{X} - t_{1 - \\alpha / 2} \\cdot \\dfrac{\\sigma}{\\sqrt{n}}\n",
    "    \\leq \\mu \\leq \n",
    "    \\overline{X} + t_{1 - \\alpha / 2} \\cdot \\dfrac{\\sigma}{\\sqrt{n}}\n",
    "\\right) = p.\n",
    "$$\n",
    "Здесь $\\alpha = 1 - p = 0.05$. Так как мы работаем со случайной величиной, а не с выборкой, то квантиль $t_{1 - \\alpha / 2}$ найдём из стандартного нормального распределения."
   ]
  },
  {
   "cell_type": "code",
   "execution_count": 2,
   "metadata": {},
   "outputs": [
    {
     "name": "stdout",
     "output_type": "stream",
     "text": [
      "Low = 78.04, Up = 81.96\n"
     ]
    }
   ],
   "source": [
    "alpha = 0.05\n",
    "sigm = 16\n",
    "p = 0.95\n",
    "mean = 80\n",
    "n = 256\n",
    "\n",
    "alpha = 1 - p\n",
    "t = stats.norm.ppf(1 - alpha/2)\n",
    "\n",
    "low = mean - t * (sigm / np.sqrt(n))\n",
    "up = mean + t * (sigm / np.sqrt(n))\n",
    "print(f'Low = {round(low, 2)}, Up = {round(up, 2)}')"
   ]
  },
  {
   "cell_type": "markdown",
   "metadata": {},
   "source": [
    "### Ответ:\n",
    "\n",
    "Доверительный интервал для оценки матожидания с надёжностью 0.95:\n",
    "\n",
    "$78.04 \\leq \\mu \\leq 81.96$."
   ]
  },
  {
   "cell_type": "markdown",
   "metadata": {},
   "source": [
    "## Задача 2\n",
    "\n",
    "Продавец утверждает, что средний вес пачки печенья составляет 200 г. Из партии извлечена выборка из 10 пачек. Вес каждой пачки составляет:\n",
    "\n",
    "202, 203, 199, 197, 195, 201, 200, 204, 194, 190\n",
    "\n",
    "Известно, что их веса распределены нормально.\n",
    "1. Верно ли утверждение продавца, если учитывать, что уровень значимости равен 1%?\n",
    "2. Найдите P-значение для данного теста."
   ]
  },
  {
   "cell_type": "markdown",
   "metadata": {},
   "source": [
    "### Решение:\n",
    "\n",
    "1. Проверим гипотезу $H_0$ о том что матожидание веса пачки печенья равно 200г. Так как веса пачек печенья распределены нормально, то используем статистику: $$T(X) = \\dfrac{\\overline{X} - a}{\\sigma_X / \\sqrt{n}},$$ \n",
    "\n",
    "здесь $a = 200$, $n = 10$."
   ]
  },
  {
   "cell_type": "code",
   "execution_count": 3,
   "metadata": {},
   "outputs": [],
   "source": [
    "X = np.array([202, 203, 199, 197, 195, 201, 200, 204, 194, 190])\n",
    "a = 200\n",
    "n = len(X)\n",
    "alpha = 0.01\n",
    "def statistic(samples):\n",
    "    return (samples.mean() - a) / (samples.std(ddof=1) / np.sqrt(samples.shape[0]))"
   ]
  },
  {
   "cell_type": "markdown",
   "metadata": {},
   "source": [
    "Статистика $T(X)$ будет иметь распределение Стьюдента. Критическая область: $$\\Omega_\\alpha = (-\\infty, t_{\\alpha/2, \\: n-1}) \\cup (t_{1 - \\alpha/2, \\: n-1}, \\infty).$$ Найдём квантили $t_{\\alpha/2, \\: n - 1}$ и $t_{1 - \\alpha/2, \\: n - 1}$."
   ]
  },
  {
   "cell_type": "code",
   "execution_count": 4,
   "metadata": {},
   "outputs": [
    {
     "data": {
      "text/plain": [
       "(-3.24983554401537, 3.2498355440153697)"
      ]
     },
     "execution_count": 4,
     "metadata": {},
     "output_type": "execute_result"
    }
   ],
   "source": [
    "t1 = stats.t.ppf(alpha/2, df=n-1)\n",
    "t2 = stats.t.ppf(1 - alpha/2, n-1)\n",
    "t1, t2"
   ]
  },
  {
   "cell_type": "markdown",
   "metadata": {},
   "source": [
    "Получили критическую область $\\Omega_\\alpha = (-\\infty, -3.25) \\cup (3.25, \\infty)$. \n",
    "\n",
    "Посчитаем $T(X)$ для нашей выборки."
   ]
  },
  {
   "cell_type": "code",
   "execution_count": 5,
   "metadata": {},
   "outputs": [
    {
     "data": {
      "text/plain": [
       "-1.0651074037450896"
      ]
     },
     "execution_count": 5,
     "metadata": {},
     "output_type": "execute_result"
    }
   ],
   "source": [
    "T = statistic(X)\n",
    "T"
   ]
  },
  {
   "cell_type": "markdown",
   "metadata": {},
   "source": [
    "Получили $T(X) = -1.065$. Эта точка не попадает в критическую область, поэтому гипотеза $H_0$ остаётся в силе. То есть утверждение продавца истинно с уровнем значимости 1%."
   ]
  },
  {
   "cell_type": "markdown",
   "metadata": {},
   "source": [
    "2. Найдём P-значение для данного теста."
   ]
  },
  {
   "cell_type": "code",
   "execution_count": 6,
   "metadata": {},
   "outputs": [
    {
     "data": {
      "text/plain": [
       "0.31456660352472854"
      ]
     },
     "execution_count": 6,
     "metadata": {},
     "output_type": "execute_result"
    }
   ],
   "source": [
    "p_left = stats.t.cdf(T, df=n - 1)\n",
    "p_right = 1 - stats.t.cdf(T, df=n - 1)\n",
    "\n",
    "pvalue = 2 * min(p_left, p_right)\n",
    "\n",
    "pvalue"
   ]
  },
  {
   "cell_type": "markdown",
   "metadata": {},
   "source": [
    "### Ответ:\n",
    "\n",
    "1. Оснований отклонить гипотезу нет.\n",
    "2. P-значение для данного теста: pvalue = 0.315"
   ]
  },
  {
   "cell_type": "markdown",
   "metadata": {},
   "source": [
    "## Задача 3\n",
    "\n",
    "Утверждается, что шарики для подшипников, изготовленные автоматическим станком, имеют средний диаметр 17 мм. Используя уровень значимости 0.025 и правостороннюю критическую область, проверить данную гипотезу при условии, что в выборке из 100 шариков средний диаметр оказался равным 17.5 мм, а дисперсия известна и равна 4 мм."
   ]
  },
  {
   "cell_type": "markdown",
   "metadata": {},
   "source": [
    "### Решение:\n",
    "\n",
    "Проверяется гипотеза $H_0$ о том что матожидание распределения диаметра шариков не превышает 17мм. Так как распределение нормальное и с известной дисперсией, то для проверки гипотезы $H_0$ будем использовать статистику $T(X) = \\dfrac{\\overline{X} - a}{\\sigma / \\sqrt{n}}$. Эта статистика имеет стандартное нормальное распределение. Для нашей выборки оказалось что $\\overline{X}=17.5$. $n = 100$, $\\sigma = 2мм$, $a = 17мм$. То есть$$T(X) = \\dfrac{\\overline{X} - 17}{2 / \\sqrt{100}} = (\\overline{X} - 17) \\cdot 5$$\n",
    "\n",
    "При уровне значимости $\\alpha = 0.025$ правосторонняя критическая область $\\Omega_\\alpha = (t_{1 - \\alpha}, \\infty)$. Посчитаем квантиль $t_{1 - \\alpha}$."
   ]
  },
  {
   "cell_type": "code",
   "execution_count": 7,
   "metadata": {},
   "outputs": [
    {
     "data": {
      "text/plain": [
       "1.959963984540054"
      ]
     },
     "execution_count": 7,
     "metadata": {},
     "output_type": "execute_result"
    }
   ],
   "source": [
    "alpha = 0.025\n",
    "t2 = stats.norm.ppf(1 - alpha)\n",
    "t2"
   ]
  },
  {
   "cell_type": "markdown",
   "metadata": {},
   "source": [
    "\n",
    "Получили правостороннюю критическую область $\\Omega_\\alpha = (1.96, \\infty)$. Посчитаем значение статистики $T(X)$ для $\\overline{X} = 17.5$."
   ]
  },
  {
   "cell_type": "code",
   "execution_count": 8,
   "metadata": {},
   "outputs": [
    {
     "data": {
      "text/plain": [
       "2.5"
      ]
     },
     "execution_count": 8,
     "metadata": {},
     "output_type": "execute_result"
    }
   ],
   "source": [
    "T = lambda x: (x - 17) * 5\n",
    "T(17.5)"
   ]
  },
  {
   "cell_type": "markdown",
   "metadata": {},
   "source": [
    "### Ответ:\n",
    "\n",
    "Для нашей конкретной выборки статистика $T(17.5) = 2.5$ попадает в критическую область, поэтому гипотеза $H_0$ отвергается. То есть матожидание распределения шариков превышает 17мм."
   ]
  }
 ],
 "metadata": {
  "kernelspec": {
   "display_name": "Python 3",
   "language": "python",
   "name": "python3"
  },
  "language_info": {
   "codemirror_mode": {
    "name": "ipython",
    "version": 3
   },
   "file_extension": ".py",
   "mimetype": "text/x-python",
   "name": "python",
   "nbconvert_exporter": "python",
   "pygments_lexer": "ipython3",
   "version": "3.7.6"
  }
 },
 "nbformat": 4,
 "nbformat_minor": 4
}
